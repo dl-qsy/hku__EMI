{
 "cells": [
  {
   "cell_type": "code",
   "execution_count": 2,
   "metadata": {},
   "outputs": [],
   "source": [
    "import torch\n",
    "import os\n",
    "import random\n",
    "import matplotlib.pyplot as plt\n",
    "import numpy as np\n",
    "from torch import nn\n",
    "\n",
    "# 直接加载模型\n",
    "model = torch.load(r'C:\\Users\\qishe\\Desktop\\ppt\\epoch-20.pth')\n",
    "criterion1 = nn.MSELoss()\n",
    "\n",
    "# 将模型加载到设备上\n",
    "model = model.to(torch.device(\"cuda\" if torch.cuda.is_available() else \"cpu\"))\n",
    "\n",
    "# 切换到评估模式\n",
    "model.eval()\n",
    "\n",
    "\n",
    "\n",
    "# 指定路径\n",
    "folder_path = r'D:\\Ultra-low-field-MRI-Scanner-main\\data\\dataset1\\data\\train'\n",
    "\n",
    "# 获取文件夹中所有 .pth 文件\n",
    "pth_files = [f for f in os.listdir(folder_path) if f.endswith('.pth')]\n",
    "\n",
    "\n"
   ]
  },
  {
   "cell_type": "code",
   "execution_count": 3,
   "metadata": {},
   "outputs": [],
   "source": [
    "# 随机选择一个 .pth 文件\n",
    "random_pth_file = random.choice(pth_files)\n",
    "file_path = os.path.join(folder_path, random_pth_file)\n",
    "    \n",
    "# 加载 .pth 文件中的字典\n",
    "data_dict = torch.load(file_path)\n",
    "\n",
    "Kspace_data = data_dict['k-space']\n",
    "# 提取 'label' 数据\n",
    "label_data = data_dict['label']\n",
    "\n",
    "\n",
    "# 确定是否有可用的 GPU，如果有，则使用 GPU，否则使用 CPU\n",
    "device = torch.device(\"cuda\" if torch.cuda.is_available() else \"cpu\")\n",
    "# 假设 model 已经被加载到 GPU 上\n",
    "Kspace_data = Kspace_data.to(device)  # 将输入数据移动到 GPU\n",
    "\n",
    "# 进行推理\n",
    "with torch.no_grad():  # 禁用梯度计算，节省显存\n",
    "    output = model(Kspace_data)\n",
    "    \n",
    "\n",
    "label_data = label_data.unsqueeze(-1)  # 添加一个维度到最后，使其形状变为 (1, 2, 128, 1)\n",
    "\n",
    "output = output.to(device)\n",
    "label_data = label_data.to(device)\n",
    "loss = criterion1(output,label_data)\n",
    "\n"
   ]
  },
  {
   "cell_type": "code",
   "execution_count": 4,
   "metadata": {},
   "outputs": [
    {
     "data": {
      "text/plain": [
       "torch.Size([128, 10])"
      ]
     },
     "execution_count": 4,
     "metadata": {},
     "output_type": "execute_result"
    }
   ],
   "source": [
    "import torch\n",
    "\n",
    "# 假设 Kspace_data 的形状是 [batch_size, 2, height, width]\n",
    "# 通道 0 表示实部，通道 1 表示虚部\n",
    "\n",
    "real_part = Kspace_data[:, 0, :, :]  # 提取实部\n",
    "imag_part = Kspace_data[:, 1, :, :]  # 提取虚部\n",
    "\n",
    "# 合并实部和虚部为复数张量\n",
    "complex_Kspace_data = torch.complex(real_part, imag_part)\n",
    "complex_Kspace_data = complex_Kspace_data.squeeze()\n",
    "real_part = label_data[:, 0, :, :]  # 提取实部\n",
    "imag_part = label_data[:, 1, :, :]  # 提取虚部\n",
    "\n",
    "complex_label_data = torch.complex(real_part, imag_part)\n",
    "complex_label_data = complex_label_data.squeeze(0)\n",
    "complex_Kspace_data.shape"
   ]
  },
  {
   "cell_type": "code",
   "execution_count": 5,
   "metadata": {},
   "outputs": [
    {
     "name": "stdout",
     "output_type": "stream",
     "text": [
      "复数信号与标签信号的相关性:\n",
      " tensor([ -32.2825-18.9779j,   12.1979-22.9881j,  963.3839-760.9211j,\n",
      "        -270.7272-116.0464j, 2661.4849-1200.0637j, -278.7265-89.6993j,\n",
      "         679.3990+126.1604j, 3020.7212-2056.5806j,  237.6805+350.6705j,\n",
      "         119.4312-131.8776j])\n",
      "tensor([  37.4476,   26.0239, 1227.6438,  294.5505, 2919.5298,  292.8044,\n",
      "         691.0134, 3654.3508,  423.6293,  177.9200])\n",
      "根据相关性的模值排序后的信号编号（从1到10）:\n",
      " tensor([ 9, 10,  3,  6,  2,  7,  4,  1,  5,  8])\n"
     ]
    }
   ],
   "source": [
    "import torch\n",
    "\n",
    "def complex_correlation_with_label(signals, label_signal):\n",
    "    # 获取信号的数量\n",
    "    num_signals = signals.size(1)\n",
    "    \n",
    "    # 初始化相关性数组\n",
    "    correlations = torch.zeros(num_signals, dtype=torch.cfloat)\n",
    "\n",
    "    # 计算每个信号与标签信号的相关性\n",
    "    for i in range(num_signals):\n",
    "        correlations[i] = torch.mean(signals[:, i] * torch.conj(label_signal[:, 0]))\n",
    "    \n",
    "    return correlations\n",
    "\n",
    "\n",
    "# 计算相关性\n",
    "correlations = complex_correlation_with_label(complex_Kspace_data, complex_label_data)\n",
    "print(\"复数信号与标签信号的相关性:\\n\", correlations)\n",
    "\n",
    "magnitudes = torch.abs(correlations)\n",
    "print(magnitudes)\n",
    "\n",
    "def rank_tensor(tensor):\n",
    "    # 获取张量的排序索引，从大到小排列\n",
    "    sorted_indices = torch.argsort(tensor, descending=True)\n",
    "    \n",
    "    # 创建一个与输入张量大小相同的排名张量\n",
    "    ranks = torch.empty_like(tensor, dtype=torch.long)\n",
    "    \n",
    "    # 遍历排序后的索引，将对应位置的排名从1到10赋值\n",
    "    for rank, idx in enumerate(sorted_indices, 1):\n",
    "        ranks[idx] = rank\n",
    "    \n",
    "    return ranks\n",
    "\n",
    "rank = rank_tensor(magnitudes)\n",
    "# 获取根据模值排序的信号编号\n",
    "\n",
    "# 输出信号编号\n",
    "print(\"根据相关性的模值排序后的信号编号（从1到10）:\\n\", rank)\n",
    "\n"
   ]
  },
  {
   "cell_type": "code",
   "execution_count": 6,
   "metadata": {},
   "outputs": [
    {
     "name": "stdout",
     "output_type": "stream",
     "text": [
      "torch.Size([6854, 10])\n"
     ]
    }
   ],
   "source": [
    "rank_list = []\n",
    "magnitudes_list = []\n",
    "\n",
    "for filename in os.listdir(folder_path):\n",
    "     # 检查文件是否以.pth结尾\n",
    "    file_path = os.path.join(folder_path, filename)\n",
    "\n",
    "    data_dict = torch.load(file_path)\n",
    "    Kspace_data = data_dict['k-space']\n",
    "     # 提取 'label' 数据\n",
    "    label_data = data_dict['label']\n",
    "    label_data = label_data.unsqueeze(-1)  # 添加一个维度到最后，使其形状变为 (1, 2, 128, 1)\n",
    "    real_part = Kspace_data[:, 0, :, :]  # 提取实部\n",
    "    imag_part = Kspace_data[:, 1, :, :]  # 提取虚部\n",
    "\n",
    "    # 合并实部和虚部为复数张量\n",
    "    complex_Kspace_data = torch.complex(real_part, imag_part)\n",
    "    complex_Kspace_data = complex_Kspace_data.squeeze()\n",
    "    real_part = label_data[:, 0, :, :]  # 提取实部\n",
    "    imag_part = label_data[:, 1, :, :]  # 提取虚部\n",
    "\n",
    "    complex_label_data = torch.complex(real_part, imag_part)\n",
    "    complex_label_data = complex_label_data.squeeze(0)\n",
    "    correlations = complex_correlation_with_label(complex_Kspace_data, complex_label_data)\n",
    "    magnitudes = torch.abs(correlations)\n",
    "\n",
    "\n",
    "    magnitudes_list.append(magnitudes)\n",
    "    rank = rank_tensor(magnitudes)\n",
    "    rank_list.append(rank)\n",
    "\n",
    "magnitudes_all = torch.stack(magnitudes_list)\n",
    "rank_all = torch.stack(rank_list)\n",
    "\n",
    "print(rank_all.shape) \n",
    "\n",
    "\n",
    "\n",
    "    "
   ]
  },
  {
   "cell_type": "code",
   "execution_count": 51,
   "metadata": {},
   "outputs": [
    {
     "name": "stdout",
     "output_type": "stream",
     "text": [
      "Coil 1: Top 2 values are [10, 9] with counts [4646, 2208]\n",
      "Coil 2: Top 2 values are [9, 10] with counts [4646, 2208]\n",
      "Coil 3: Unique values are [3] with counts [6854]\n",
      "Coil 4: Top 2 values are [7, 6] with counts [5535, 1319]\n",
      "Coil 5: Unique values are [2] with counts [6854]\n",
      "Coil 6: Top 2 values are [6, 7] with counts [5535, 1319]\n",
      "Coil 7: Unique values are [4] with counts [6854]\n",
      "Coil 8: Unique values are [1] with counts [6854]\n",
      "Coil 9: Unique values are [5] with counts [6854]\n",
      "Coil 10: Unique values are [8] with counts [6854]\n"
     ]
    }
   ],
   "source": [
    "import torch\n",
    "\n",
    "# 假设你的张量是这样生成的\n",
    "\n",
    "# 获取列数\n",
    "num_columns = rank_all.shape[1]\n",
    "\n",
    "for col in range(num_columns):\n",
    "    # 获取当前列\n",
    "    current_column = rank_all[:, col]\n",
    "    \n",
    "    # 获取唯一值及其计数\n",
    "    unique_values, counts = torch.unique(current_column, return_counts=True)\n",
    "\n",
    "    # 检查 counts 的大小\n",
    "    if counts.size(0) < 2:\n",
    "        # 如果少于两个唯一值，则打印所有唯一值及其计数\n",
    "        print(f\"Coil {col+1}: Unique values are {unique_values.tolist()} with counts {counts.tolist()}\")\n",
    "    else:\n",
    "        # 获取出现次数最多的前两个值\n",
    "        top_k_counts, top_k_indices = torch.topk(counts, 2)\n",
    "\n",
    "        # 获取对应的值\n",
    "        top_k_values = unique_values[top_k_indices]\n",
    "\n",
    "        # 打印结果\n",
    "        print(f\"Coil {col+1}: Top 2 values are {top_k_values.tolist()} with counts {top_k_counts.tolist()}\")\n"
   ]
  }
 ],
 "metadata": {
  "kernelspec": {
   "display_name": "Python 3",
   "language": "python",
   "name": "python3"
  },
  "language_info": {
   "codemirror_mode": {
    "name": "ipython",
    "version": 3
   },
   "file_extension": ".py",
   "mimetype": "text/x-python",
   "name": "python",
   "nbconvert_exporter": "python",
   "pygments_lexer": "ipython3",
   "version": "3.9.19"
  }
 },
 "nbformat": 4,
 "nbformat_minor": 4
}
