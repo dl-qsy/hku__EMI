{
 "cells": [
  {
   "cell_type": "code",
   "execution_count": 1,
   "metadata": {},
   "outputs": [
    {
     "name": "stdout",
     "output_type": "stream",
     "text": [
      "输出的shape: torch.Size([1, 2, 128, 1])\n"
     ]
    }
   ],
   "source": [
    "import torch\n",
    "import torch.nn as nn\n",
    "\n",
    "class Net1(nn.Module):\n",
    "    def __init__(self):\n",
    "        super(Net1, self).__init__()\n",
    "        \n",
    "        # 将压缩层合并到 features 中\n",
    "        self.features = nn.Sequential(\n",
    "            nn.Conv2d(in_channels=2, out_channels=128, kernel_size=(1, 5), stride=(1, 5), padding=0),  # 压缩宽度从50到10\n",
    "            nn.BatchNorm2d(128),\n",
    "            nn.ReLU(),\n",
    "            nn.Conv2d(128, 64, 9, stride=1, padding=4),\n",
    "            nn.BatchNorm2d(64),\n",
    "            nn.ReLU(),\n",
    "            nn.Conv2d(64, 32, 5, stride=1, padding=2),\n",
    "            nn.BatchNorm2d(32),\n",
    "            nn.ReLU(),\n",
    "            nn.Conv2d(32, 32, 1, stride=1, padding=0),\n",
    "            nn.BatchNorm2d(32),\n",
    "            nn.ReLU(),\n",
    "            nn.Conv2d(32, 2, 7, stride=(1, 4), padding=(3, 0))\n",
    "        )\n",
    "    \n",
    "    def forward(self, x):\n",
    "        # 直接将输入传递给 features 进行所有的卷积操作\n",
    "        x = self.features(x)\n",
    "        return x\n",
    "\n",
    "# 示例输入\n",
    "input_data = torch.randn(1, 2, 128, 50)  # 输入为 [1, 2, 128, 50]\n",
    "model = Net1()\n",
    "\n",
    "# 前向传播\n",
    "output = model(input_data)\n",
    "\n",
    "print(f\"输出的shape: {output.shape}\")\n"
   ]
  }
 ],
 "metadata": {
  "kernelspec": {
   "display_name": "Python 3",
   "language": "python",
   "name": "python3"
  },
  "language_info": {
   "codemirror_mode": {
    "name": "ipython",
    "version": 3
   },
   "file_extension": ".py",
   "mimetype": "text/x-python",
   "name": "python",
   "nbconvert_exporter": "python",
   "pygments_lexer": "ipython3",
   "version": "3.9.19"
  }
 },
 "nbformat": 4,
 "nbformat_minor": 2
}
